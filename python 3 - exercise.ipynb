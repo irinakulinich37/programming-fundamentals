{
 "cells": [
  {
   "cell_type": "markdown",
   "metadata": {},
   "source": [
    "# W6 - Python functions assignment"
   ]
  },
  {
   "cell_type": "markdown",
   "metadata": {},
   "source": [
    "# 1. You are investigating set of suspicious emails\n",
    "You read article that clients with numbers in email addresses are more likely to commit fraud.\n",
    "Create function that will take as parameters list of emails and searched symbol and will return ratio of emails containing given symbol.\n",
    "\n",
    "Example\n",
    "```python\n",
    "emails = [\n",
    "    'james1@example.com', 'januline12@januline.com', 'fillip.morris@pm.com', 'ray@bradbury.org', 'me+you@hotmail.com', 'seven11@gmail.com', 'noreply@msd.com', 'cars4u@tesla.com' \n",
    "]\n",
    ">>> find_symbol_emails(emails, '1')\n",
    "0.375\n",
    "```"
   ]
  },
  {
   "cell_type": "code",
   "execution_count": 10,
   "metadata": {},
   "outputs": [
    {
     "data": {
      "text/plain": [
       "0.125"
      ]
     },
     "execution_count": 10,
     "metadata": {},
     "output_type": "execute_result"
    }
   ],
   "source": [
    "emails =  ['james1@example.com', 'januline12@januline.com', 'fillip.morris@pm.com', 'ray@bradbury.org', 'me+you@hotmail.com', 'seven11@gmail.com', 'noreply@msd.com', 'cars4u@tesla.com' ]\n",
    "def  find(emails, symbol):\n",
    "    search = 0\n",
    "    for item in emails:\n",
    "        if symbol in item:\n",
    "            search += 1\n",
    "    return search/len(emails)\n",
    "\n",
    "find(emails, '2')"
   ]
  },
  {
   "cell_type": "markdown",
   "metadata": {},
   "source": [
    "# 2. Using function from the previous exercise\n",
    "Create another function that will have as an input list of emails and list of symbols and will return dictionary with symbol occurrence in email list.\n",
    "\n",
    "Example\n",
    "```python\n",
    ">>> find_symbol_list_emails(emails, ['1', '2', '+', '.'])\n",
    "{'1' : 0.375, '2' : 0.125, '+' : 0.125, '.' : 0}\n",
    "```"
   ]
  },
  {
   "cell_type": "code",
   "execution_count": 25,
   "metadata": {},
   "outputs": [
    {
     "name": "stdout",
     "output_type": "stream",
     "text": [
      "{'1': 0.375, '2': 0.125, '+': 0.125, '.': 1.0}\n"
     ]
    }
   ],
   "source": [
    "dict_symbols = {}\n",
    "emails =  ['james1@example.com', 'januline12@januline.com', 'fillip.morris@pm.com', 'ray@bradbury.org', 'me+you@hotmail.com', 'seven11@gmail.com', 'noreply@msd.com', 'cars4u@tesla.com' ]\n",
    "def  make_dict(emails, symbol_list):\n",
    "    print({symbol:find(emails, symbol) for symbol in symbol_list})\n",
    "make_dict(emails, ['1', '2', '+', '.'])"
   ]
  },
  {
   "cell_type": "markdown",
   "metadata": {},
   "source": [
    "# 3. Write function to multiply all the numbers in a list\n",
    "e.g.\n",
    "```python\n",
    ">>> multiply([1,7,3], 3)\n",
    "[3, 21, 9]\n",
    "```"
   ]
  },
  {
   "cell_type": "code",
   "execution_count": 26,
   "metadata": {},
   "outputs": [
    {
     "data": {
      "text/plain": [
       "[3, 21, 9]"
      ]
     },
     "execution_count": 26,
     "metadata": {},
     "output_type": "execute_result"
    }
   ],
   "source": [
    "lst = [1,7,3]\n",
    "num = 3\n",
    "def multiply(list, number):\n",
    "    result = [element*number for element in list]\n",
    "    return result\n",
    "\n",
    "multiply(lst, num)\n"
   ]
  },
  {
   "cell_type": "markdown",
   "metadata": {},
   "source": [
    "# 4. Write function that takes integer (x) and returns 3 values (x^2, x^3, x^4)\n",
    "\n",
    "e.g.\n",
    "```python\n",
    ">>>compute_num(2)\n",
    "4, 8, 16\n",
    "```"
   ]
  },
  {
   "cell_type": "code",
   "execution_count": 27,
   "metadata": {},
   "outputs": [
    {
     "data": {
      "text/plain": [
       "[9, 27, 81]"
      ]
     },
     "execution_count": 27,
     "metadata": {},
     "output_type": "execute_result"
    }
   ],
   "source": [
    "def compute(int):\n",
    "    result = [int**x for x in range(2, 5, 1)]\n",
    "    return result\n",
    "\n",
    "compute(3)\n"
   ]
  },
  {
   "cell_type": "markdown",
   "metadata": {},
   "source": [
    "# 5. Create function to transform Fahrenheit degrees to Celsius\n",
    "e.g.\n",
    "\n",
    "```python\n",
    ">>> fahrenheit_to_celsius(212)\n",
    "100.0\n",
    ">>> fahrenheit_to_celsius(0)\n",
    "-17.7777778\n",
    "```"
   ]
  },
  {
   "cell_type": "code",
   "execution_count": 31,
   "metadata": {},
   "outputs": [
    {
     "name": "stdout",
     "output_type": "stream",
     "text": [
      "Your Fahrenheit: 32\n"
     ]
    },
    {
     "data": {
      "text/plain": [
       "0.0"
      ]
     },
     "execution_count": 31,
     "metadata": {},
     "output_type": "execute_result"
    }
   ],
   "source": [
    "def converter():\n",
    "    a = int(input(\"Your Fahrenheit: \", ))\n",
    "    result = ((a-32)*5)/9\n",
    "    return result \n",
    "converter()"
   ]
  },
  {
   "cell_type": "markdown",
   "metadata": {},
   "source": [
    "# 6. Write function that accepts a single digit (n) and computes the value of nnn-nn-n\n",
    "\n",
    "```python\n",
    ">>> 111 - 11 - 1\n",
    "99\n",
    ">>> exercise_6(1)\n",
    "99\n",
    "```"
   ]
  },
  {
   "cell_type": "code",
   "execution_count": 32,
   "metadata": {},
   "outputs": [
    {
     "data": {
      "text/plain": [
       "792"
      ]
     },
     "execution_count": 32,
     "metadata": {},
     "output_type": "execute_result"
    }
   ],
   "source": [
    "def summing_up(num):\n",
    "    a = str(num)\n",
    "    b = a + a\n",
    "    c = a + a + a\n",
    "    result = int(c) - int(b) - num\n",
    "    return result\n",
    "summing_up(8)\n"
   ]
  },
  {
   "cell_type": "markdown",
   "metadata": {},
   "source": [
    "# 7. Lucky ticket\n",
    "Create function that\n",
    "1. Asks user to input 6-digit number\n",
    "2. Checks if input contains only numbers and has 6 numbers\n",
    "    - If no, ask user to type again\n",
    "3. Computes whether sum of first 3 digits equals to sum of last 3 digits\n",
    "    - If yes, prints congratulation\n",
    "\n",
    "Example\n",
    "```python\n",
    ">>> lucky_ticket()\n",
    "type 6-digit ticket number: 332440\n",
    "You are lucky person!\n",
    "```"
   ]
  },
  {
   "cell_type": "code",
   "execution_count": 34,
   "metadata": {},
   "outputs": [
    {
     "name": "stdout",
     "output_type": "stream",
     "text": [
      "Type 6 digits: 777777\n",
      "You are lucky\n"
     ]
    }
   ],
   "source": [
    "def user(a):\n",
    "    a = list(input('Type 6 digits: ', ))\n",
    "    if len(a) != 6:\n",
    "        print( a = list(input('Type 6 digits: ', )))\n",
    "    else:\n",
    "        integer_a = [int(i) for i in a]\n",
    "        if sum(integer_a[0:3]) == sum(integer_a[3:]):\n",
    "            print('You are lucky')\n",
    "user(a)"
   ]
  },
  {
   "cell_type": "markdown",
   "metadata": {},
   "source": [
    "# 8. Get first and last elements\n",
    "Create a function that takes a list of numbers and makes a new list of only the first and last elements of the given list. \n",
    "\n",
    "e.g.\n",
    "```python\n",
    ">>> first_last([5, 10, 15, 20, 25])\n",
    "[5,25]\n",
    ">>> first_last([5])\n",
    "[5]\n",
    ">>> first_last([])\n",
    "[]\n",
    "```"
   ]
  },
  {
   "cell_type": "code",
   "execution_count": 35,
   "metadata": {},
   "outputs": [
    {
     "name": "stdout",
     "output_type": "stream",
     "text": [
      "Write: hsdiu299\n",
      "['h', '9']\n"
     ]
    }
   ],
   "source": [
    "def first_last():\n",
    "    a = list(input('Write: ', ))\n",
    "    new_list = list(a[0] + a[-1])\n",
    "    print(new_list)\n",
    "    \n",
    "first_last()\n",
    "\n",
    "\n",
    "\n",
    "\n"
   ]
  },
  {
   "cell_type": "markdown",
   "metadata": {},
   "source": [
    "# 9. Create function to make all letters in string upper case and decorate the text with stars\n",
    "e.g.\n",
    "```python\n",
    ">>> make_fancy_string('hello')\n",
    "***HELLO***\n",
    "```"
   ]
  },
  {
   "cell_type": "code",
   "execution_count": 36,
   "metadata": {},
   "outputs": [
    {
     "name": "stdout",
     "output_type": "stream",
     "text": [
      "***HFHJKFJ;A***\n"
     ]
    }
   ],
   "source": [
    "def make_fancy_string(user_say):\n",
    "    result = '***' + user_say + '***'\n",
    "    final = result.upper()\n",
    "    print(final)\n",
    "make_fancy_string('hfhjkfj;a')"
   ]
  },
  {
   "cell_type": "markdown",
   "metadata": {},
   "source": [
    "# 10. Write function to check whether string is palindrome\n",
    "e.g.\n",
    "```python\n",
    ">>>check_palindrome('ABBA')\n",
    "True\n",
    "```"
   ]
  },
  {
   "cell_type": "code",
   "execution_count": 39,
   "metadata": {},
   "outputs": [
    {
     "name": "stdout",
     "output_type": "stream",
     "text": [
      "TRUE\n"
     ]
    }
   ],
   "source": [
    "def check_palindrome(my_string):\n",
    "    reversed = my_string[::-1]\n",
    "    if my_string == reversed:\n",
    "        print('TRUE')\n",
    "    else:\n",
    "        print('FALSE')\n",
    "check_palindrome('ADGDA')"
   ]
  },
  {
   "cell_type": "markdown",
   "metadata": {},
   "source": [
    "# BONUS: create function that has as an input 3 letters and returns all permutations of letters\n",
    "e.g.\n",
    "```python\n",
    ">>> permutations('abc')\n",
    "abc\n",
    "acb\n",
    "bac\n",
    "bca\n",
    "cab\n",
    "cba\n",
    "```"
   ]
  },
  {
   "cell_type": "code",
   "execution_count": null,
   "metadata": {},
   "outputs": [],
   "source": []
  },
  {
   "cell_type": "code",
   "execution_count": null,
   "metadata": {},
   "outputs": [],
   "source": []
  },
  {
   "cell_type": "code",
   "execution_count": null,
   "metadata": {},
   "outputs": [],
   "source": []
  }
 ],
 "metadata": {
  "kernelspec": {
   "display_name": "Python 3",
   "language": "python",
   "name": "python3"
  },
  "language_info": {
   "codemirror_mode": {
    "name": "ipython",
    "version": 3
   },
   "file_extension": ".py",
   "mimetype": "text/x-python",
   "name": "python",
   "nbconvert_exporter": "python",
   "pygments_lexer": "ipython3",
   "version": "3.7.0"
  }
 },
 "nbformat": 4,
 "nbformat_minor": 2
}
