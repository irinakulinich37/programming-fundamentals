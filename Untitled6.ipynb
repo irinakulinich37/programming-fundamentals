{
 "cells": [
  {
   "cell_type": "code",
   "execution_count": 15,
   "metadata": {},
   "outputs": [],
   "source": [
    "def copy_file(a, b):\n",
    "    with open(a, 'r', encoding='utf-8') as g:\n",
    "        lines_in_full_file = g.readlines()\n",
    "    with open(b, 'w', encoding='utf-8') as f:\n",
    "        for line in  lines_in_full_file:\n",
    "            f.write(line)\n",
    "\n",
    "copy_file('full_file.txt', 'empty_file.txt')  \n"
   ]
  },
  {
   "cell_type": "code",
   "execution_count": 4,
   "metadata": {},
   "outputs": [
    {
     "name": "stdout",
     "output_type": "stream",
     "text": [
      "1\n"
     ]
    }
   ],
   "source": [
    "def count_lines(a , b):\n",
    "    with open('zen.txt', 'r', encoding='utf-8') as f:\n",
    "        reading = f.read()\n",
    "        num_lines = reading.count(b)\n",
    "        print(num_lines)\n",
    "count_lines('zen.txt', 'complex')\n"
   ]
  },
  {
   "cell_type": "code",
   "execution_count": null,
   "metadata": {},
   "outputs": [],
   "source": []
  }
 ],
 "metadata": {
  "kernelspec": {
   "display_name": "Python 3",
   "language": "python",
   "name": "python3"
  },
  "language_info": {
   "codemirror_mode": {
    "name": "ipython",
    "version": 3
   },
   "file_extension": ".py",
   "mimetype": "text/x-python",
   "name": "python",
   "nbconvert_exporter": "python",
   "pygments_lexer": "ipython3",
   "version": "3.7.0"
  }
 },
 "nbformat": 4,
 "nbformat_minor": 2
}
