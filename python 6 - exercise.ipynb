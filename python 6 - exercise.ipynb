{
 "cells": [
  {
   "cell_type": "markdown",
   "metadata": {},
   "source": [
    "# W9 - Python regular expressions\n",
    "**To solve following problems, use regular expressions**"
   ]
  },
  {
   "cell_type": "markdown",
   "metadata": {},
   "source": [
    "# 1. Write function that matches a string that has an 'a' followed by anything, ending in 'b'\n",
    "Example\n",
    "```python\n",
    ">>> print(text_match(\"aabbbbdb\"))\n",
    "True\n",
    ">>> print(text_match(\"aabAbbbc\"))\n",
    "False\n",
    "```"
   ]
  },
  {
   "cell_type": "code",
   "execution_count": 53,
   "metadata": {},
   "outputs": [
    {
     "name": "stdout",
     "output_type": "stream",
     "text": [
      "True\n",
      "False\n"
     ]
    }
   ],
   "source": [
    "def text_match(string):    \n",
    "    import re\n",
    "    if re.match('a.*b$', string):\n",
    "        print(True)\n",
    "    else:\n",
    "        print(False)\n",
    "        \n",
    "text_match('aabbbbdb')\n",
    "text_match('sfkgpoe')"
   ]
  },
  {
   "cell_type": "markdown",
   "metadata": {},
   "source": [
    "# 2. Write function that matches string if it starts with word\n",
    "Example\n",
    "```python\n",
    ">>> print(text_match(\"Hello world!\"))\n",
    "True\n",
    ">>> print(text_match(\" Hello world!\"))\n",
    "False\n",
    "```"
   ]
  },
  {
   "cell_type": "code",
   "execution_count": 51,
   "metadata": {},
   "outputs": [
    {
     "name": "stdout",
     "output_type": "stream",
     "text": [
      "True\n",
      "False\n"
     ]
    }
   ],
   "source": [
    "def text_match(string):  \n",
    "    import re\n",
    "    if re.match('\\w+', string):\n",
    "        print(True)\n",
    "    else:\n",
    "        print(False)\n",
    "text_match('Hello world!')\n",
    "text_match('  Hello world!')"
   ]
  },
  {
   "cell_type": "markdown",
   "metadata": {},
   "source": [
    "# 3. Write function to convert a date of yyyy-mm-dd format to dd-mm-yyyy format\n",
    "Example\n",
    "```python\n",
    ">>> print(convert_date(\"2018-11-01\"))\n",
    "```\n",
    "```\n",
    "01-11-2018\n",
    "```"
   ]
  },
  {
   "cell_type": "code",
   "execution_count": 49,
   "metadata": {},
   "outputs": [
    {
     "name": "stdout",
     "output_type": "stream",
     "text": [
      "01-11-2018\n"
     ]
    }
   ],
   "source": [
    "def convert_date(date):\n",
    "    reversed_date = re.sub('(\\w+)-(\\w+)-(\\w+)', r'\\3-\\2-\\1', date)\n",
    "    print (num)\n",
    "convert_date('2018-11-01')\n"
   ]
  },
  {
   "cell_type": "markdown",
   "metadata": {},
   "source": [
    "# 4. Write function to search for words containing 3 letters in the given string\n",
    "Resulting words are sorted in alphabetical order\n",
    "Example\n",
    "```python\n",
    ">>> print(search words('The quick brown fox jumps over the lazy dog.'))\n",
    "dog fox the\n",
    "```"
   ]
  },
  {
   "cell_type": "code",
   "execution_count": 48,
   "metadata": {},
   "outputs": [
    {
     "name": "stdout",
     "output_type": "stream",
     "text": [
      "['dog', 'fox', 'the']\n"
     ]
    }
   ],
   "source": [
    "def search_words(string):   \n",
    "    import re\n",
    "    string = 'The quick brown fox jumps over the lazy dog.'\n",
    "    search = re.findall(r'\\b[a-y]{3}\\b', string)\n",
    "    print(sorted(search))\n",
    "search_words('The quick brown fox jumps over the lazy dog.')    "
   ]
  },
  {
   "cell_type": "markdown",
   "metadata": {},
   "source": [
    "# 5. Write function to convert camel case string to snake case string\n",
    "Example\n",
    "```python\n",
    ">>> print(convert_style(\"myVariable\"))\n",
    "my_variable\n",
    "```"
   ]
  },
  {
   "cell_type": "code",
   "execution_count": 17,
   "metadata": {},
   "outputs": [
    {
     "data": {
      "text/plain": [
       "'my_variable'"
      ]
     },
     "execution_count": 17,
     "metadata": {},
     "output_type": "execute_result"
    }
   ],
   "source": [
    "import re\n",
    "def convert(name):\n",
    "    s1 = re.sub('(.)([A-Z][a-z]+)', r'\\1_\\2', name)\n",
    "    return re.sub('([a-z0-9])([A-Z])', r'\\1_\\2', s1).lower()\n",
    "convert('myVariable')"
   ]
  },
  {
   "cell_type": "markdown",
   "metadata": {},
   "source": [
    "# 6. Write function to find all adverbs in the given string\n",
    "Example\n",
    "```python\n",
    ">>> print(find_adverbs('The early bird catches the worm.'))\n",
    "early\n",
    ">>> print(find_adverbs('Better late than never.'))\n",
    "No adverbs were found\n",
    "```"
   ]
  },
  {
   "cell_type": "code",
   "execution_count": 32,
   "metadata": {},
   "outputs": [
    {
     "name": "stdout",
     "output_type": "stream",
     "text": [
      "early\n",
      "No adverbs were found\n"
     ]
    }
   ],
   "source": [
    "def find_adverbs(string):    \n",
    "    import re\n",
    "    if re.search(r'\\w+y', string):\n",
    "        print(re.search(r'\\w+y', string).group())\n",
    "    else:\n",
    "        print('No adverbs were found')\n",
    "        \n",
    "find_adverbs('The early bird catches the worm.')\n",
    "find_adverbs('Better late than never.')"
   ]
  },
  {
   "cell_type": "markdown",
   "metadata": {},
   "source": [
    "# 7. Write function to remove multiple spaces in the given string"
   ]
  },
  {
   "cell_type": "code",
   "execution_count": 46,
   "metadata": {},
   "outputs": [
    {
     "name": "stdout",
     "output_type": "stream",
     "text": [
      "jdgshkfhsfugsfgweugfu\n"
     ]
    }
   ],
   "source": [
    "def remove_spaces(string):\n",
    "    import re\n",
    "    search_words = re.findall(r'\\w', string)\n",
    "    print(''.join(search_words))\n",
    "remove_spaces('jdgshk fhsfugs fgweugfu')"
   ]
  },
  {
   "cell_type": "markdown",
   "metadata": {},
   "source": [
    "# 8. Write function that matches word that does not starts and ends with s in the given string\n",
    "Example\n",
    "```python\n",
    ">>> print(word_match_not_s(\"A chain is only as strong as its weakest link.\"))\n",
    "a\n",
    "chain\n",
    "only\n",
    "weakest\n",
    "link\n",
    "```"
   ]
  },
  {
   "cell_type": "code",
   "execution_count": 43,
   "metadata": {},
   "outputs": [
    {
     "name": "stdout",
     "output_type": "stream",
     "text": [
      "['is', 'as', 'strong', 'as', 'its']\n",
      "['A', 'chain', 'only', 'weakest', 'link']\n"
     ]
    }
   ],
   "source": [
    "def word_match_not_s(string):    \n",
    "    import re\n",
    "    search_words = re.findall(r'\\b[s]\\w+\\b|\\b\\w+[s]\\b', string)\n",
    "    all_words = re.findall(r'\\b\\w+\\b', string)\n",
    "    for x in search_words:\n",
    "        all_words.remove(x)\n",
    "    print(search_words)\n",
    "    print(all_words)\n",
    "word_match_not_s(\"A chain is only as strong as its weakest link.\")"
   ]
  },
  {
   "cell_type": "markdown",
   "metadata": {},
   "source": [
    "# 9. Write function to remove leading zeroes from month and day\n",
    "Example\n",
    "```python\n",
    ">>> print(remove_zeroes(\"1970-01-01\"))\n",
    "1970-1-1\n",
    "```"
   ]
  },
  {
   "cell_type": "code",
   "execution_count": 42,
   "metadata": {},
   "outputs": [
    {
     "name": "stdout",
     "output_type": "stream",
     "text": [
      "1970-1-1\n"
     ]
    }
   ],
   "source": [
    "def remove_zeros(x):  \n",
    "    import re \n",
    "    search_words = re.sub('(\\d+\\-)0(\\d+\\-)0(\\d+)', r'\\1\\2\\3', x)\n",
    "    print(search_words)\n",
    "remove_zeros('1970-01-01')"
   ]
  },
  {
   "cell_type": "markdown",
   "metadata": {},
   "source": [
    "# 10. Write function that will find sequence of 4 and more same symbols in given string\n",
    "Example\n",
    "```python\n",
    ">>> print(find_repetitions('atagttcgacctgggtatcccttttgaaaaagtatctactagagggtatcttcaa'))\n",
    "Symbol a matched at least 4 times\n",
    "Symbol t matched at least 4 times\n",
    "```"
   ]
  },
  {
   "cell_type": "code",
   "execution_count": null,
   "metadata": {},
   "outputs": [],
   "source": []
  },
  {
   "cell_type": "markdown",
   "metadata": {},
   "source": [
    "# BONUS: Write function to extract email addresses from the text using regular expressions\n",
    "```python\n",
    "text = '''Please submit your article online at https://biocoreopen.org/ijcf/submit_manuscript.php or you can email your attachments to ijcf@biocoreopen.info (or) editor.forensicjournal@gmail.com'''\n",
    ">>> extract_emails(text)\n",
    "ijcf@biocoreopen.info\n",
    "editor.forensicjournal@gmail.com\n",
    "```"
   ]
  },
  {
   "cell_type": "code",
   "execution_count": 40,
   "metadata": {},
   "outputs": [
    {
     "name": "stdout",
     "output_type": "stream",
     "text": [
      "['ijcf@biocoreopen', 'forensicjournal@gmail']\n"
     ]
    }
   ],
   "source": [
    "text = '''Please submit your article online at https://biocoreopen.org/ijcf/submit_manuscript.php or you can email your attachments to ijcf@biocoreopen.info (or) editor.forensicjournal@gmail.com'''\n",
    "def extract_emails(a):    \n",
    "    findemails = re.findall(r'\\b\\w+[@]\\w+\\b', a)\n",
    "    print(findemails)\n",
    "extract_emails(text)"
   ]
  },
  {
   "cell_type": "code",
   "execution_count": null,
   "metadata": {},
   "outputs": [],
   "source": []
  }
 ],
 "metadata": {
  "kernelspec": {
   "display_name": "Python 3",
   "language": "python",
   "name": "python3"
  },
  "language_info": {
   "codemirror_mode": {
    "name": "ipython",
    "version": 3
   },
   "file_extension": ".py",
   "mimetype": "text/x-python",
   "name": "python",
   "nbconvert_exporter": "python",
   "pygments_lexer": "ipython3",
   "version": "3.7.0"
  }
 },
 "nbformat": 4,
 "nbformat_minor": 2
}
