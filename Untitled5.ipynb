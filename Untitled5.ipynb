{
 "cells": [
  {
   "cell_type": "code",
   "execution_count": 31,
   "metadata": {},
   "outputs": [
    {
     "name": "stdout",
     "output_type": "stream",
     "text": [
      "<class '_io.TextIOWrapper'>\n"
     ]
    }
   ],
   "source": [
    "linenumb = 0\n",
    "things = ['casserole', 'book', 'knife', 'water bottle', 'fishing rod']\n",
    "with open('island.txt', 'w', encoding ='utf-8') as f:\n",
    "    print(type(f))\n",
    "    for i in things:\n",
    "        linenumb += 1\n",
    "        f.write(str(linenumb) + ' ' + i + '\\n')\n"
   ]
  },
  {
   "cell_type": "code",
   "execution_count": 54,
   "metadata": {},
   "outputs": [
    {
     "name": "stdout",
     "output_type": "stream",
     "text": [
      "9 Although practicality beats purity.\n",
      "\n"
     ]
    }
   ],
   "source": [
    "def read_random_lines(text):\n",
    "    import random\n",
    "    random_integer = random.randint(1, 21)\n",
    "    with open(text, 'r', encoding='utf-8') as g:\n",
    "            lines_in_zen = g.readlines()\n",
    "            print(str(random_integer) + ' ' + lines_in_zen[random_integer])\n",
    "read_random_lines('zen.txt')"
   ]
  },
  {
   "cell_type": "code",
   "execution_count": null,
   "metadata": {},
   "outputs": [],
   "source": [
    "\n",
    "random_integer = random.randint(1, 21)\n",
    "with open('zen.txt', 'r', encoding='utf-8') as g:\n",
    "        lines_in_zen = g.readlines()\n",
    "        print(str(random_integer) + ' ' + lines_in_zen[random_integer])\n"
   ]
  },
  {
   "cell_type": "code",
   "execution_count": 66,
   "metadata": {},
   "outputs": [
    {
     "name": "stdout",
     "output_type": "stream",
     "text": [
      "['The Zen of Python\\n']\n",
      "['Beautiful is better than ugly.\\n']\n",
      "['Explicit is better than implicit.\\n']\n",
      "['Simple is better than complex.\\n']\n",
      "['Complex is better than complicated.\\n']\n",
      "['Flat is better than nested.\\n']\n",
      "['Sparse is better than dense.\\n']\n",
      "['Readability counts.\\n']\n",
      "[\"Special cases aren't special enough to break the rules.\\n\"]\n",
      "['Although practicality beats purity.\\n']\n",
      "['Errors should never pass silently.\\n']\n",
      "['Unless explicitly silenced.\\n']\n",
      "['In the face of ambiguity', ' refuse the temptation to guess.\\n']\n",
      "['There should be one-- and preferably only one --obvious way to do it.\\n']\n",
      "[\"Although that way may not be obvious at first unless you're Dutch.\\n\"]\n",
      "['Now is better than never.\\n']\n",
      "['Although never is often better than *right* now.\\n']\n",
      "['If the implementation is hard to explain', \" it's a bad idea.\\n\"]\n",
      "['If the implementation is easy to explain', ' it may be a good idea.\\n']\n",
      "[\"Namespaces are one honking great idea -- let's do more of those!\\n\"]\n"
     ]
    }
   ],
   "source": [
    "def find_longest_word(text):\n",
    "    with open(text, 'r', encoding='utf-8') as g:\n",
    "        reading_text = g.readlines()\n",
    "        for line in reading_text:\n",
    "            final = line.split(',')\n",
    "        #longest = max(line_word, key = len)\n",
    "        #print(longest)  \n",
    "            print(final)\n",
    "find_longest_word('zen.txt')    "
   ]
  },
  {
   "cell_type": "code",
   "execution_count": null,
   "metadata": {},
   "outputs": [],
   "source": []
  }
 ],
 "metadata": {
  "kernelspec": {
   "display_name": "Python 3",
   "language": "python",
   "name": "python3"
  },
  "language_info": {
   "codemirror_mode": {
    "name": "ipython",
    "version": 3
   },
   "file_extension": ".py",
   "mimetype": "text/x-python",
   "name": "python",
   "nbconvert_exporter": "python",
   "pygments_lexer": "ipython3",
   "version": "3.7.0"
  }
 },
 "nbformat": 4,
 "nbformat_minor": 2
}
