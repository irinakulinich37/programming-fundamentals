{
 "cells": [
  {
   "cell_type": "markdown",
   "metadata": {},
   "source": [
    "# W8 - Python files and modules"
   ]
  },
  {
   "cell_type": "markdown",
   "metadata": {},
   "source": [
    "# 1. Write function to read first n lines of a file"
   ]
  },
  {
   "cell_type": "code",
   "execution_count": 2,
   "metadata": {},
   "outputs": [
    {
     "data": {
      "text/plain": [
       "'The Zen of Python\\n'"
      ]
     },
     "execution_count": 2,
     "metadata": {},
     "output_type": "execute_result"
    }
   ],
   "source": [
    "with open('zen.txt', 'r', encoding='utf-8') as f:\n",
    "    reading_line = f.readline()\n",
    "reading_line"
   ]
  },
  {
   "cell_type": "markdown",
   "metadata": {},
   "source": [
    "# 2. Create script that will count vowels in string\n",
    "Example\n",
    "```shell\n",
    "$ python find_vowels.py 'hello world'\n",
    "hello world contains 3 vowels\n",
    "```"
   ]
  },
  {
   "cell_type": "code",
   "execution_count": null,
   "metadata": {},
   "outputs": [],
   "source": [
    "import sys\n",
    "string = sys.argv[1]\n",
    "vowels = 'aueoi'\n",
    "for x in string:\n",
    "    if x in vowels:\n",
    "        occurence = string.count(x)\n",
    "\n",
    "print('String {0} contains {1} vowels'.format(string, occurence))"
   ]
  },
  {
   "cell_type": "markdown",
   "metadata": {},
   "source": [
    "# 3. Write function to count number of lines in a file\n",
    "Example\n",
    "```python\n",
    ">>>count_lines('myfile.txt')\n",
    "File has 12 lines\n",
    "```"
   ]
  },
  {
   "cell_type": "code",
   "execution_count": 1,
   "metadata": {},
   "outputs": [
    {
     "name": "stdout",
     "output_type": "stream",
     "text": [
      "20\n"
     ]
    }
   ],
   "source": [
    "def count_lines(text):\n",
    "    num_lines = 0\n",
    "    with open(text, 'r', encoding='utf-8') as f:\n",
    "        reading = f.readlines()\n",
    "        for line in reading:\n",
    "            num_lines += 1\n",
    "    print(num_lines)\n",
    "count_lines('zen.txt')"
   ]
  },
  {
   "cell_type": "markdown",
   "metadata": {},
   "source": [
    "# 4. Write function to count occurrence of given word in file\n",
    "Example\n",
    "```python\n",
    ">>>count_occurence('myfile.txt', 'apple')\n",
    "Searched term apple appeared 10 times\n",
    "```"
   ]
  },
  {
   "cell_type": "code",
   "execution_count": 2,
   "metadata": {},
   "outputs": [
    {
     "name": "stdout",
     "output_type": "stream",
     "text": [
      "1\n"
     ]
    }
   ],
   "source": [
    "def count_occ(a , b):\n",
    "    with open('zen.txt', 'r', encoding='utf-8') as f:\n",
    "        reading = f.read()\n",
    "        num_occ = reading.count(b)\n",
    "        print(num_occ)\n",
    "count_occ('zen.txt', 'complex')"
   ]
  },
  {
   "cell_type": "markdown",
   "metadata": {},
   "source": [
    "# 5. Write function to copy the contents of a file to another file\n",
    "\n",
    "```python\n",
    ">>>copy file('myfile.txt', 'myfile2.txt')\n",
    "```"
   ]
  },
  {
   "cell_type": "code",
   "execution_count": 3,
   "metadata": {},
   "outputs": [],
   "source": [
    "def copy_file(a, b):\n",
    "    with open(a, 'r', encoding='utf-8') as g:\n",
    "        lines_in_full_file = g.readlines()\n",
    "    with open(b, 'w', encoding='utf-8') as f:\n",
    "        for line in  lines_in_full_file:\n",
    "            f.write(line)\n",
    "\n",
    "copy_file('full_file.txt', 'empty_file.txt')  \n"
   ]
  },
  {
   "cell_type": "markdown",
   "metadata": {},
   "source": [
    "# 6. Write function to write nested list to file, each list on separate line\n",
    "Example data `my_list = [['a', 'b', 'c'], [1,2,3]]`"
   ]
  },
  {
   "cell_type": "code",
   "execution_count": 4,
   "metadata": {},
   "outputs": [],
   "source": [
    "def list_write(text):\n",
    "    my_list = [['a', 'b', 'c'], [1,2,3]]\n",
    "    with open(text, \"w\") as f:\n",
    "        for x in my_list:\n",
    "            f.write(str(x) + '\\n')\n",
    "            \n",
    "list_write('file_for_list.txt')"
   ]
  },
  {
   "cell_type": "markdown",
   "metadata": {},
   "source": [
    "# 7. Write function to read  random line from a file"
   ]
  },
  {
   "cell_type": "code",
   "execution_count": 9,
   "metadata": {},
   "outputs": [
    {
     "name": "stdout",
     "output_type": "stream",
     "text": [
      "15 Although that way may not be obvious at first unless you're Dutch.\n",
      "\n"
     ]
    }
   ],
   "source": [
    "def read_random_lines(text):\n",
    "    import random\n",
    "    random_integer = random.randint(0, 20)\n",
    "    with open(text, 'r', encoding='utf-8') as g:\n",
    "            lines_in_zen = g.readlines()\n",
    "            print(str(random_integer + 1) + ' ' + lines_in_zen[random_integer])\n",
    "read_random_lines('zen.txt')"
   ]
  },
  {
   "cell_type": "markdown",
   "metadata": {},
   "source": [
    "# 8. Write function to read nth, n-1 and n+1 lines of file\n",
    "Example\n",
    "```python\n",
    ">>>read_specific_lines('myfile.txt', 10)\n",
    "```\n",
    "```\n",
    "Errors should never pass silently.\n",
    "Unless explicitly silenced.\n",
    "In the face of ambiguity, refuse the temptation to guess.\n",
    "```"
   ]
  },
  {
   "cell_type": "code",
   "execution_count": null,
   "metadata": {},
   "outputs": [],
   "source": [
    "def read_3_lines(text, a):\n",
    "    with open(text, 'r', encoding='utf-8') as g:\n",
    "            lines_in_zen = g.readlines()\n",
    "            print(lines_in_zen[a - 2])\n",
    "            print(lines_in_zen[a - 1])\n",
    "            print(lines_in_zen[a])\n",
    "read_3_lines('zen.txt', 2)"
   ]
  },
  {
   "cell_type": "markdown",
   "metadata": {},
   "source": [
    "# 9. Write function to read file and find the longest word\n",
    "Example\n",
    "```python\n",
    ">>>find_longest_word('myfile.txt')\n",
    "supercalifragilisticexpialidocious\n",
    "```"
   ]
  },
  {
   "cell_type": "code",
   "execution_count": 10,
   "metadata": {},
   "outputs": [
    {
     "name": "stdout",
     "output_type": "stream",
     "text": [
      "implementation\n"
     ]
    }
   ],
   "source": [
    "def find_longest_word(text):  \n",
    "    with open(text, \"r\") as f:\n",
    "        reading_file = f.read()\n",
    "        list_of_words = reading_file.split()\n",
    "        longest = max(list_of_words, key = len)\n",
    "    print(longest)\n",
    "find_longest_word('zen.txt')"
   ]
  },
  {
   "cell_type": "markdown",
   "metadata": {},
   "source": [
    "# 10. Write function to concatenate 2 files together and store them as new file\n",
    "```\n",
    ">>>concatenate_files('myfile1.txt', 'myfile2.txt', 'myfile_new.txt')\n",
    "```"
   ]
  },
  {
   "cell_type": "code",
   "execution_count": 11,
   "metadata": {},
   "outputs": [],
   "source": [
    "def concatenate(a, b, c):\n",
    "    with open(a, 'r', encoding='utf-8') as g:\n",
    "        read_A = g.readlines()\n",
    "    with open(b, 'r', encoding='utf-8') as f:\n",
    "        read_B = f.readlines()\n",
    "    \n",
    "    with open(c, 'w', encoding='utf-8') as y:\n",
    "        for line in  read_A:\n",
    "            y.write(line)\n",
    "        for line in  read_B:\n",
    "            y.write(line)\n",
    "        \n",
    "\n",
    "concatenate('text_A.txt', 'text_B.txt', 'NEW.txt')  \n",
    "\n",
    "   "
   ]
  },
  {
   "cell_type": "markdown",
   "metadata": {},
   "source": [
    "# BONUS: Write function to read file and print only words containing letters 'p', 'y', 't', 'o' or 'n' and make these letters uppercase\n",
    "Example\n",
    "```python\n",
    ">>>print_selected_words('myfile.txt')\n",
    "lOve\n",
    "simPliciTY\n",
    "PaTieNce\n",
    "```"
   ]
  },
  {
   "cell_type": "code",
   "execution_count": 12,
   "metadata": {},
   "outputs": [
    {
     "name": "stdout",
     "output_type": "stream",
     "text": [
      "ThE\n",
      "ZEn\n",
      "Of\n",
      "PythOn\n",
      "BEAUtIfUl\n",
      "Is\n",
      "bEttEr\n",
      "thAn\n",
      "Ugly.\n",
      "ExplIcIt\n",
      "Is\n",
      "bEttEr\n",
      "thAn\n",
      "ImplIcIt.\n",
      "SImplE\n",
      "Is\n",
      "bEttEr\n",
      "thAn\n",
      "cOmplEx.\n",
      "COmplEx\n",
      "Is\n",
      "bEttEr\n",
      "thAn\n",
      "cOmplIcAtEd.\n",
      "FlAt\n",
      "Is\n",
      "bEttEr\n",
      "thAn\n",
      "nEstEd.\n",
      "SpArsE\n",
      "Is\n",
      "bEttEr\n",
      "thAn\n",
      "dEnsE.\n",
      "REAdAbIlIty\n",
      "cOUnts.\n",
      "SpEcIAl\n",
      "cAsEs\n",
      "ArEn't\n",
      "spEcIAl\n",
      "EnOUgh\n",
      "tO\n",
      "brEAk\n",
      "thE\n",
      "rUlEs.\n",
      "AlthOUgh\n",
      "prActIcAlIty\n",
      "bEAts\n",
      "pUrIty.\n",
      "ErrOrs\n",
      "shOUld\n",
      "nEvEr\n",
      "pAss\n",
      "sIlEntly.\n",
      "UnlEss\n",
      "ExplIcItly\n",
      "sIlEncEd.\n",
      "In\n",
      "thE\n",
      "fAcE\n",
      "Of\n",
      "AmbIgUIty,\n",
      "rEfUsE\n",
      "thE\n",
      "tEmptAtIOn\n",
      "tO\n",
      "gUEss.\n",
      "ThErE\n",
      "shOUld\n",
      "bE\n",
      "OnE--\n",
      "And\n",
      "prEfErAbly\n",
      "Only\n",
      "OnE\n",
      "--ObvIOUs\n",
      "wAy\n",
      "tO\n",
      "dO\n",
      "It.\n",
      "AlthOUgh\n",
      "thAt\n",
      "wAy\n",
      "mAy\n",
      "nOt\n",
      "bE\n",
      "ObvIOUs\n",
      "At\n",
      "fIrst\n",
      "UnlEss\n",
      "yOU'rE\n",
      "DUtch.\n",
      "NOw\n",
      "Is\n",
      "bEttEr\n",
      "thAn\n",
      "nEvEr.\n",
      "AlthOUgh\n",
      "nEvEr\n",
      "Is\n",
      "OftEn\n",
      "bEttEr\n",
      "thAn\n",
      "*rIght*\n",
      "nOw.\n",
      "If\n",
      "thE\n",
      "ImplEmEntAtIOn\n",
      "Is\n",
      "hArd\n",
      "tO\n",
      "ExplAIn,\n",
      "It's\n",
      "A\n",
      "bAd\n",
      "IdEA.\n",
      "If\n",
      "thE\n",
      "ImplEmEntAtIOn\n",
      "Is\n",
      "EAsy\n",
      "tO\n",
      "ExplAIn,\n",
      "It\n",
      "mAy\n",
      "bE\n",
      "A\n",
      "gOOd\n",
      "IdEA.\n",
      "NAmEspAcEs\n",
      "ArE\n",
      "OnE\n",
      "hOnkIng\n",
      "grEAt\n",
      "IdEA\n",
      "--\n",
      "lEt's\n",
      "dO\n",
      "mOrE\n",
      "Of\n",
      "thOsE!\n"
     ]
    }
   ],
   "source": [
    "def print_selected_words(text): \n",
    "    vowels = 'aouie'\n",
    "    with open(text, \"r\") as f:\n",
    "        reading_file = f.read()\n",
    "        list_of_words = reading_file.split()\n",
    "        for word in list_of_words:\n",
    "            for i in word:\n",
    "                word = ''.join([i.upper() if i in vowels else i for i in word])\n",
    "            print(word)\n",
    "print_selected_words('zen.txt')"
   ]
  },
  {
   "cell_type": "code",
   "execution_count": null,
   "metadata": {},
   "outputs": [],
   "source": []
  }
 ],
 "metadata": {
  "kernelspec": {
   "display_name": "Python 3",
   "language": "python",
   "name": "python3"
  },
  "language_info": {
   "codemirror_mode": {
    "name": "ipython",
    "version": 3
   },
   "file_extension": ".py",
   "mimetype": "text/x-python",
   "name": "python",
   "nbconvert_exporter": "python",
   "pygments_lexer": "ipython3",
   "version": "3.7.0"
  }
 },
 "nbformat": 4,
 "nbformat_minor": 2
}
