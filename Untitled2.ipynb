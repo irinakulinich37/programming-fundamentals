{
 "cells": [
  {
   "cell_type": "code",
   "execution_count": null,
   "metadata": {},
   "outputs": [],
   "source": [
    "#user_ask = int(input('What is your favourite number? : '))\n",
    "i = 0\n",
    "#if user_ask == 13:\n",
    " #   print(int(input('Please, write another number: ' )))\n",
    "#else:\n",
    "while i < user_ask + 1:\n",
    "    print(i)\n",
    "    i += 1\n",
    "    if i == 13:\n",
    "        continue\n",
    "            \n",
    "\n",
    "\n"
   ]
  },
  {
   "cell_type": "code",
   "execution_count": null,
   "metadata": {},
   "outputs": [],
   "source": []
  }
 ],
 "metadata": {
  "kernelspec": {
   "display_name": "Python 3",
   "language": "python",
   "name": "python3"
  },
  "language_info": {
   "codemirror_mode": {
    "name": "ipython",
    "version": 3
   },
   "file_extension": ".py",
   "mimetype": "text/x-python",
   "name": "python",
   "nbconvert_exporter": "python",
   "pygments_lexer": "ipython3",
   "version": "3.7.0"
  }
 },
 "nbformat": 4,
 "nbformat_minor": 2
}
