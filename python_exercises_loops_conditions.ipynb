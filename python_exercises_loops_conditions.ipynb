{
 "cells": [
  {
   "cell_type": "markdown",
   "metadata": {},
   "source": [
    "## Question 1\n",
    "Write a code which will find all such numbers which are divisible by 7 but are not a multiple of 5,\n",
    "between 2000 and 3200 (both included).\n",
    "\n",
    "The numbers obtained should be printed in a comma-separated sequence on a single line.\n",
    "\n",
    "*Hints*: \n",
    "Consider use range(#begin, #end) method"
   ]
  },
  {
   "cell_type": "markdown",
   "metadata": {},
   "source": [
    "## Question 2\n",
    "Write a code which can generate and print a list where the values are square of numbers between 1 and 20 (both included).\n",
    "\n",
    "*Hints*:\n",
    "\n",
    "- Use ** operator to get power of a number.\n",
    "- Use `range()` for loops.\n",
    "- Use `list.append()` to add values into a list.\n",
    "\n",
    "**Bonus**: use list comprehensions"
   ]
  },
  {
   "cell_type": "markdown",
   "metadata": {},
   "source": [
    "## Question 3\n",
    "Write a program which accepts a string as input to print \"Yes\" \n",
    "if the string is \"yes\" or \"YES\" or \"Yes\", otherwise print \"No\". \n",
    "\n",
    "*Hints*:\n",
    "\n",
    "Use if statement to judge condition."
   ]
  },
  {
   "cell_type": "markdown",
   "metadata": {},
   "source": [
    "## Question 4\n",
    "With a given list [12,24,35,24,88,120,155,88,120,155], write a program to print this list \n",
    "after removing all duplicate values with original order preserved.\n",
    "\n",
    "*Hints*:\n",
    "Use `set()` to store a number of values without duplicate."
   ]
  },
  {
   "cell_type": "markdown",
   "metadata": {},
   "source": [
    "## Question 5\n",
    "\n",
    "With two given lists [1,3,6,78,35,55] and [12,24,35,24,88,120,155], \n",
    "write a code to make a list whose elements are intersection of the above given lists.\n",
    "\n",
    "*Hints*:\n",
    "Use `set()` and `&` to do set intersection operation."
   ]
  },
  {
   "cell_type": "markdown",
   "metadata": {},
   "source": [
    "## Question 6\n",
    "By using list comprehension, write a code to print the list after removing that are **not** \n",
    "divisible by 3 in [12,24,35,70,88,120,155]."
   ]
  },
  {
   "cell_type": "markdown",
   "metadata": {},
   "source": [
    "## Question 7\n",
    "\n",
    "By using list comprehension, please write a program generate a 3*5 2D array whose each element is 0.\n",
    "\n",
    "*Hints*:\n",
    "Use list comprehension to make an array."
   ]
  },
  {
   "cell_type": "markdown",
   "metadata": {},
   "source": [
    "## Question 8\n",
    "\n",
    "Write a code to generate all sentences where subject is in `[\"I\", \"You\"]` and \n",
    "verb is in `[\"Play\", \"Love\"]` and the object is in `[\"Hockey\",\"Football\"]`."
   ]
  },
  {
   "cell_type": "markdown",
   "metadata": {},
   "source": [
    "## Question 9\n",
    "\n",
    "Write code to print box using `*` symbols, e.g.\n",
    "```\n",
    "Width? 3\n",
    "Height? 4\n",
    "***\n",
    "* *\n",
    "* *\n",
    "***\n",
    "```"
   ]
  },
  {
   "cell_type": "markdown",
   "metadata": {},
   "source": [
    "## Question 10\n",
    "\n",
    "Write a code to print multiplication table from 2 to 10, separate numbers visually e.g.\n",
    "```\n",
    "------2-------\n",
    "2 X 2 = 4\n",
    "2 X 3 = 6\n",
    "2 X 4 = 8\n",
    "2 X 5 = 10\n",
    "2 X 6 = 12\n",
    "2 X 7 = 14\n",
    "2 X 8 = 16\n",
    "2 X 9 = 18\n",
    "2 X 10 = 20\n",
    "------3-------\n",
    "3 X 2 = 6\n",
    "3 X 3 = 9\n",
    "3 X 4 = 12\n",
    "3 X 5 = 15\n",
    "3 X 6 = 18\n",
    "3 X 7 = 21\n",
    "3 X 8 = 24\n",
    "3 X 9 = 27\n",
    "3 X 10 = 30\n",
    "------4-------\n",
    "4 X 2 = 8\n",
    "```\n"
   ]
  },
  {
   "cell_type": "markdown",
   "metadata": {},
   "source": [
    "## Bonus question\n",
    "\n",
    "Write a code to solve a classic ancient Chinese puzzle: \n",
    "We count 35 heads and 94 legs among the chickens and rabbits in a farm. \n",
    "\n",
    "How many rabbits and how many chickens do we have? Use `format` method to print results.\n",
    "\n",
    "*Hint*:\n",
    "Use for loop to iterate all possible solutions."
   ]
  }
 ],
 "metadata": {
  "kernelspec": {
   "display_name": "Python 3",
   "language": "python",
   "name": "python3"
  },
  "language_info": {
   "codemirror_mode": {
    "name": "ipython",
    "version": 3
   },
   "file_extension": ".py",
   "mimetype": "text/x-python",
   "name": "python",
   "nbconvert_exporter": "python",
   "pygments_lexer": "ipython3",
   "version": "3.6.2"
  }
 },
 "nbformat": 4,
 "nbformat_minor": 2
}
