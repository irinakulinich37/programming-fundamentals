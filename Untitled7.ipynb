{
 "cells": [
  {
   "cell_type": "code",
   "execution_count": 3,
   "metadata": {},
   "outputs": [
    {
     "name": "stdout",
     "output_type": "stream",
     "text": [
      "Tell me a number: 2\n",
      "Tell me a number: 3\n",
      "Tell me a number: 5\n",
      "You guessed!\n"
     ]
    }
   ],
   "source": [
    "import random\n",
    "random_number = random.randint(0,9)\n",
    "attempts = 3\n",
    "for attempt in range(attempts):\n",
    "    guess = int(input('Tell me a number: '))\n",
    "    if guess == random_number:\n",
    "        print(\"You guessed!\")\n",
    "        break\n",
    "if guess != random_number:  \n",
    "    raise Exception('You have not guessed')\n"
   ]
  },
  {
   "cell_type": "code",
   "execution_count": null,
   "metadata": {},
   "outputs": [],
   "source": []
  }
 ],
 "metadata": {
  "kernelspec": {
   "display_name": "Python 3",
   "language": "python",
   "name": "python3"
  },
  "language_info": {
   "codemirror_mode": {
    "name": "ipython",
    "version": 3
   },
   "file_extension": ".py",
   "mimetype": "text/x-python",
   "name": "python",
   "nbconvert_exporter": "python",
   "pygments_lexer": "ipython3",
   "version": "3.7.0"
  }
 },
 "nbformat": 4,
 "nbformat_minor": 2
}
