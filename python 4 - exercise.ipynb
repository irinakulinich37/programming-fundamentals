{
 "cells": [
  {
   "cell_type": "markdown",
   "metadata": {},
   "source": [
    "# W7 - Python errors and exceptions\n",
    "\n",
    "\n",
    "## **Try first to correct code without running it!**"
   ]
  },
  {
   "cell_type": "markdown",
   "metadata": {},
   "source": [
    "# 1. Correct code\n",
    "\n",
    "```python\n",
    "\n",
    "def print_message(day):\n",
    "    messages = {\n",
    "        \"monday\": \"Hello, world!\",\n",
    "        \"tuesday\": \"Today is tuesday!\",\n",
    "        \"wednesday\": \"It is the middle of the week.\",\n",
    "        \"thursday\": \"Today is Donnerstag in German!\",\n",
    "        \"friday\": \"Last day of the week!\",\n",
    "        \"saturday\": \"Hooray for the weekend!\",\n",
    "        \"sunday\": \"Aw, the weekend is almost over.\"\n",
    "    }\n",
    "    print(messages[day])\n",
    "\n",
    "def print_friday_message():\n",
    "    print_message('Friday')\n",
    "\n",
    "print_friday_message()\n",
    "```"
   ]
  },
  {
   "cell_type": "code",
   "execution_count": 4,
   "metadata": {},
   "outputs": [
    {
     "name": "stdout",
     "output_type": "stream",
     "text": [
      "Last day of the week!\n"
     ]
    }
   ],
   "source": [
    "def print_message(day):\n",
    "    messages = {\n",
    "        \"monday\": \"Hello, world!\",\n",
    "        \"tuesday\": \"Today is tuesday!\",\n",
    "        \"wednesday\": \"It is the middle of the week.\",\n",
    "        \"thursday\": \"Today is Donnerstag in German!\",\n",
    "        \"friday\": \"Last day of the week!\",\n",
    "        \"saturday\": \"Hooray for the weekend!\",\n",
    "        \"sunday\": \"Aw, the weekend is almost over.\"\n",
    "    }\n",
    "    print(messages[day])\n",
    "\n",
    "def print_friday_message():\n",
    "    print_message('friday')\n",
    "\n",
    "print_friday_message()"
   ]
  },
  {
   "cell_type": "markdown",
   "metadata": {},
   "source": [
    "# 2. Correct code\n",
    "```python\n",
    "friends_numbers = {}\n",
    "friends['School']['Emily'] = 505505505\n",
    "```"
   ]
  },
  {
   "cell_type": "code",
   "execution_count": 1,
   "metadata": {},
   "outputs": [
    {
     "ename": "KeyError",
     "evalue": "'School'",
     "output_type": "error",
     "traceback": [
      "\u001b[1;31m---------------------------------------------------------------------------\u001b[0m",
      "\u001b[1;31mKeyError\u001b[0m                                  Traceback (most recent call last)",
      "\u001b[1;32m<ipython-input-1-2ebda3b5a390>\u001b[0m in \u001b[0;36m<module>\u001b[1;34m()\u001b[0m\n\u001b[0;32m      1\u001b[0m \u001b[0mfriends_numbers\u001b[0m \u001b[1;33m=\u001b[0m \u001b[1;33m{\u001b[0m\u001b[1;33m}\u001b[0m\u001b[1;33m\u001b[0m\u001b[0m\n\u001b[1;32m----> 2\u001b[1;33m \u001b[0mfriends_numbers\u001b[0m\u001b[1;33m[\u001b[0m\u001b[1;34m'School'\u001b[0m\u001b[1;33m]\u001b[0m\u001b[1;33m[\u001b[0m\u001b[1;34m'Emily'\u001b[0m\u001b[1;33m]\u001b[0m \u001b[1;33m=\u001b[0m \u001b[1;36m505505505\u001b[0m\u001b[1;33m\u001b[0m\u001b[0m\n\u001b[0m",
      "\u001b[1;31mKeyError\u001b[0m: 'School'"
     ]
    }
   ],
   "source": []
  },
  {
   "cell_type": "markdown",
   "metadata": {},
   "source": [
    "# 3. Correct code\n",
    "```python\n",
    "letters = ['a', 'b', 'c', 'd']\n",
    "index = 1\n",
    "for letter in letters:\n",
    "    print(letters[index])\n",
    "    index += 1\n",
    "```"
   ]
  },
  {
   "cell_type": "code",
   "execution_count": 4,
   "metadata": {},
   "outputs": [
    {
     "name": "stdout",
     "output_type": "stream",
     "text": [
      "a\n",
      "b\n",
      "c\n",
      "d\n"
     ]
    }
   ],
   "source": [
    "letters = ['a', 'b', 'c', 'd']\n",
    "index = 0\n",
    "for letter in letters:\n",
    "    print(letters[index])\n",
    "    index += 1\n",
    "    "
   ]
  },
  {
   "cell_type": "markdown",
   "metadata": {},
   "source": [
    "# 4. Debug code\n",
    "```python\n",
    "def anti_vowel(c):\n",
    "    newstr = \"\"\n",
    "    vowels = ('a', 'e', 'i', 'o', 'u')\n",
    "    print(c)\n",
    "    for x in c.lower():\n",
    "        print(x)\n",
    "        if x in vowels:\n",
    "            newstr = c.replace(x, \"\")        \n",
    "    return newstr\n",
    "\n",
    ">>> anti_vowel(\"Hey look words\")\n",
    "Hey look words\n",
    "```"
   ]
  },
  {
   "cell_type": "code",
   "execution_count": 5,
   "metadata": {},
   "outputs": [
    {
     "name": "stdout",
     "output_type": "stream",
     "text": [
      "Hey look words\n"
     ]
    },
    {
     "data": {
      "text/plain": [
       "'Hey lk wrds'"
      ]
     },
     "execution_count": 5,
     "metadata": {},
     "output_type": "execute_result"
    }
   ],
   "source": [
    "def anti_vowel(c):\n",
    "    newstr = \"\"\n",
    "    vowels = ('a', 'e', 'i', 'o', 'u')\n",
    "    print(c)\n",
    "    for x in c.lower():\n",
    "        if x in vowels:\n",
    "            newstr = c.replace(x, \"\")        \n",
    "    return newstr\n",
    "\n",
    "anti_vowel(\"Hey look words\")\n",
    "#here I couldn't figure out what is the problem with letter e"
   ]
  },
  {
   "cell_type": "markdown",
   "metadata": {},
   "source": [
    "# 5. Guess the number\n",
    "\n",
    "1. Ask user to guess number between 0 and 9\n",
    "2. User has 3 attempts\n",
    "3. If user doesn't guess the number, raise error\n",
    "\n",
    "*Hint*: in order to play this game multiple times, use `random.randint(0,9)` `random` module\n"
   ]
  },
  {
   "cell_type": "code",
   "execution_count": null,
   "metadata": {},
   "outputs": [],
   "source": [
    "\n"
   ]
  },
  {
   "cell_type": "markdown",
   "metadata": {},
   "source": [
    "# 6. Correct code\n",
    "\n",
    "```python\n",
    "authrs = {\n",
    "    \"Charles Dickens\": \"1870\",\n",
    "    \"William Thackeray\": \"1863\",\n",
    "    \"Anthony Trollope\": \"1882\",\n",
    "    \"Gerard Manley Hopkins\": \"1889\"\n",
    "\n",
    "for author date in authors.items{}:\n",
    "    print \"{} died in {}'.format(authors, Date)\n",
    "}\n",
    "```"
   ]
  },
  {
   "cell_type": "code",
   "execution_count": 22,
   "metadata": {},
   "outputs": [
    {
     "name": "stdout",
     "output_type": "stream",
     "text": [
      "Charles Dickens died in 1870\n",
      "William Thackeray died in 1863\n",
      "Anthony Trollope died in 1882\n",
      "Gerard Manley Hopkins died in 1889\n"
     ]
    }
   ],
   "source": [
    "authors = {\n",
    "    \"Charles Dickens\":\"1870\",\n",
    "    \"William Thackeray\":\"1863\",\n",
    "    \"Anthony Trollope\":\"1882\",\n",
    "    \"Gerard Manley Hopkins\":\"1889\"\n",
    "}\n",
    "\n",
    "for author,date in authors.items():\n",
    "    print (\"{0} died in {1}\".format(author, date))\n"
   ]
  },
  {
   "cell_type": "markdown",
   "metadata": {},
   "source": [
    "# 7. Debug code\n",
    "```python\n",
    "greeting = input(\"Hello, polite hacker! What's your password to Facebook?)\n",
    "if greeting in [\"password\"):\n",
    "\tprint(\"I will not tell you that my password is {}\". format(password))\n",
    "elif\n",
    "print(\"Ugh, I thought you are hacker!\")\n",
    "```"
   ]
  },
  {
   "cell_type": "code",
   "execution_count": 34,
   "metadata": {},
   "outputs": [
    {
     "name": "stdout",
     "output_type": "stream",
     "text": [
      "Hello, polite hacker! What's your password to Facebook?hhj\n",
      "I will not tell you that my password is password\n"
     ]
    }
   ],
   "source": [
    "greeting = input(\"Hello, polite hacker! What's your password to Facebook?\" )\n",
    "password = [\"password\"]\n",
    "if greeting in password:\n",
    "     print(\"Ugh, I thought you are hacker!\")\n",
    "else:\n",
    "    for i in password:\n",
    "        print(\"I will not tell you that my password is {}\". format(i))"
   ]
  },
  {
   "cell_type": "markdown",
   "metadata": {},
   "source": [
    "# 8. Debug code\n",
    "```python\n",
    "patients = [[70, 1.8], [80, 1.9], [150, 1.7]]\n",
    "\n",
    "def calculate_bmi(weight, height):\n",
    "    return weight / (height ** 2)\n",
    "\n",
    "for patient in patients:\n",
    "    weight, height = patients[0]\n",
    "    bmi = calculate_bmi(height, weight)\n",
    "    print(\"Patient's BMI is: {}\".format(bmi))\n",
    "```"
   ]
  },
  {
   "cell_type": "code",
   "execution_count": 1,
   "metadata": {},
   "outputs": [
    {
     "name": "stdout",
     "output_type": "stream",
     "text": [
      "Patient's BMI is: 21.604938271604937\n",
      "Patient's BMI is: 21.604938271604937\n",
      "Patient's BMI is: 21.604938271604937\n"
     ]
    }
   ],
   "source": [
    "patients = [[70, 1.8], [80, 1.9], [150, 1.7]]\n",
    "\n",
    "def calculate_bmi(weight, height):\n",
    "    return weight / (height ** 2)\n",
    "for patient in patients:\n",
    "    weight, height = patients[0]\n",
    "    bmi = calculate_bmi(weight, height)\n",
    "    print(\"Patient's BMI is: {}\".format(bmi))"
   ]
  },
  {
   "cell_type": "markdown",
   "metadata": {},
   "source": [
    "# 9. Debug code\n",
    "```python\n",
    "numbers = []\n",
    "number = None\n",
    "while number != '3':\n",
    "    number = int(input('Type number:'))\n",
    "    numbers.append(number)\n",
    "```"
   ]
  },
  {
   "cell_type": "code",
   "execution_count": null,
   "metadata": {},
   "outputs": [],
   "source": [
    "numbers = []\n",
    "number = None\n",
    "\n",
    "while number != 3:\n",
    "    number = int(input('Type number:' ))\n",
    "    numbers.append(number)\n",
    "    print(numbers)\n",
    "    if number == 3:\n",
    "        break\n",
    "        "
   ]
  },
  {
   "cell_type": "markdown",
   "metadata": {},
   "source": [
    "# 10. Debug code \n",
    "```python\n",
    "exam_one = int(input(\"Input exam grade one: \"))\n",
    "exam_two = input(\"Input exam grade two: \"))\n",
    "exam_3 = str(input(\"Input exam grade three: \"))\n",
    "\n",
    "grades = [exam_one exam_two exam_three]\n",
    "sum = 0\n",
    "for grade in grade:\n",
    "  sum = sum + grade\n",
    "\n",
    "avg = sum / len(grdes)\n",
    "\n",
    "if avg >= 90:\n",
    "    letter_grade = \"A\"\n",
    "elif avg >= 80 and avg < 90\n",
    "    letter_grade = \"B\"\n",
    "elif avg > 69 and avg < 80:\n",
    "    letter_grade = \"C'\n",
    "elif avg <= 69 and avg >= 65:\n",
    "    letter_grade = \"D\"\n",
    "elif:\n",
    "    letter_grade = \"F\"\n",
    "\n",
    "for grade in grades:\n",
    "     print(\"Exam: \" + str(grade))\n",
    "    print(\"Average: \" + str(avg))\n",
    "    print(\"Grade: \" + letter_grade)\n",
    "\n",
    "if letter-grade is \"F\":\n",
    "    print \"Student is failing.\"\n",
    "else:\n",
    "    print \"Student is passing.\"\n",
    "```"
   ]
  },
  {
   "cell_type": "code",
   "execution_count": 26,
   "metadata": {},
   "outputs": [
    {
     "name": "stdout",
     "output_type": "stream",
     "text": [
      "Input exam grade one: 90\n",
      "Input exam grade two: 90\n",
      "Input exam grade three: 90\n",
      "Exam: 90\n",
      "Average: 90.0\n",
      "Grade: A\n",
      "Exam: 90\n",
      "Average: 90.0\n",
      "Grade: A\n",
      "Exam: 90\n",
      "Average: 90.0\n",
      "Grade: A\n",
      "Student is passing.\n"
     ]
    }
   ],
   "source": [
    "exam_one = int(input(\"Input exam grade one: \"))\n",
    "exam_two = int(input(\"Input exam grade two: \"))\n",
    "exam_three = int(input(\"Input exam grade three: \"))\n",
    "\n",
    "grades = [exam_one, exam_two, exam_three]\n",
    "sum = 0\n",
    "for grade in grades:\n",
    "  sum = sum + grade\n",
    "\n",
    "avg = sum / len(grades)\n",
    "\n",
    "if avg >= 90:\n",
    "    letter_grade = \"A\"\n",
    "elif avg >= 80 and avg < 90:\n",
    "    letter_grade = \"B\"\n",
    "elif avg > 69 and avg < 80:\n",
    "    letter_grade = \"C\"\n",
    "elif avg <= 69 and avg >= 65:\n",
    "    letter_grade = \"D\"\n",
    "else:\n",
    "    letter_grade = \"F\"\n",
    "\n",
    "for grade in grades:\n",
    "    print(\"Exam: \" + str(grade))\n",
    "    print(\"Average: \" + str(avg))\n",
    "    print(\"Grade: \" + letter_grade)\n",
    "\n",
    "if letter_grade is \"F\":\n",
    "    print('Student is failing.')\n",
    "else:\n",
    "    print('Student is passing.')"
   ]
  },
  {
   "cell_type": "markdown",
   "metadata": {},
   "source": [
    "# BONUS: what can cause following error?\n",
    "```python\n",
    "fruits = dict(apple=5, babanas=12, oranges=7)\n",
    "TypeError: 'dict' object is not callable\n",
    "```"
   ]
  },
  {
   "cell_type": "code",
   "execution_count": null,
   "metadata": {},
   "outputs": [],
   "source": []
  }
 ],
 "metadata": {
  "kernelspec": {
   "display_name": "Python 3",
   "language": "python",
   "name": "python3"
  },
  "language_info": {
   "codemirror_mode": {
    "name": "ipython",
    "version": 3
   },
   "file_extension": ".py",
   "mimetype": "text/x-python",
   "name": "python",
   "nbconvert_exporter": "python",
   "pygments_lexer": "ipython3",
   "version": "3.7.0"
  }
 },
 "nbformat": 4,
 "nbformat_minor": 2
}
