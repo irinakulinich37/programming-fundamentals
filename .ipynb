{
 "cells": [
  {
   "cell_type": "code",
   "execution_count": 14,
   "metadata": {},
   "outputs": [],
   "source": []
  },
  {
   "cell_type": "code",
   "execution_count": 24,
   "metadata": {},
   "outputs": [
    {
     "name": "stdout",
     "output_type": "stream",
     "text": [
      "[120, 12, 24, 35, 88, 155]\n"
     ]
    }
   ],
   "source": [
    "def remove_duplicates(mylist):\n",
    "    new = []\n",
    "    for i in mylist:\n",
    "        if i not in new:\n",
    "            new.append(i)\n",
    "    print(new)     \n",
    "remove_duplicates([120, 12, 24, 35, 24, 88, 120, 155, 88, 120, 155])"
   ]
  },
  {
   "cell_type": "code",
   "execution_count": 28,
   "metadata": {},
   "outputs": [],
   "source": [
    "def count_occurence(text, a):\n",
    "    with open('zen.txt', 'r', encoding='utf-8') as f:\n",
    "        if a in f:\n",
    "            print(f.count(a))\n",
    "        \n",
    "count_occurence('zen.txt', 'apple')\n"
   ]
  },
  {
   "cell_type": "code",
   "execution_count": 37,
   "metadata": {},
   "outputs": [
    {
     "name": "stdout",
     "output_type": "stream",
     "text": [
      "0\n"
     ]
    }
   ],
   "source": [
    "def count_lines(a , b):\n",
    "    with open('zen.txt', 'r', encoding='utf-8') as f:\n",
    "        reading = f.read()\n",
    "        num_lines = reading.count(b)\n",
    "        print(num_lines)\n",
    "count_lines('zen.txt', 'apple')"
   ]
  },
  {
   "cell_type": "code",
   "execution_count": 38,
   "metadata": {},
   "outputs": [
    {
     "name": "stdout",
     "output_type": "stream",
     "text": [
      "1\n"
     ]
    }
   ],
   "source": [
    "def count_lines(a , b):\n",
    "    with open('zen.txt', 'r', encoding='utf-8') as f:\n",
    "        reading = f.read()\n",
    "        num_lines = reading.count(b)\n",
    "        print(num_lines)\n",
    "count_lines('zen.txt', 'complex')"
   ]
  },
  {
   "cell_type": "code",
   "execution_count": 46,
   "metadata": {},
   "outputs": [
    {
     "name": "stdout",
     "output_type": "stream",
     "text": [
      "<class '_io.TextIOWrapper'>\n"
     ]
    },
    {
     "ename": "UnsupportedOperation",
     "evalue": "not readable",
     "output_type": "error",
     "traceback": [
      "\u001b[1;31m---------------------------------------------------------------------------\u001b[0m",
      "\u001b[1;31mUnsupportedOperation\u001b[0m                      Traceback (most recent call last)",
      "\u001b[1;32m<ipython-input-46-b9a80526c6a9>\u001b[0m in \u001b[0;36m<module>\u001b[1;34m()\u001b[0m\n\u001b[0;32m      7\u001b[0m             \u001b[0mf\u001b[0m\u001b[1;33m.\u001b[0m\u001b[0mwrite\u001b[0m\u001b[1;33m(\u001b[0m\u001b[0mline\u001b[0m\u001b[1;33m)\u001b[0m\u001b[1;33m\u001b[0m\u001b[0m\n\u001b[0;32m      8\u001b[0m             \u001b[0mreading_empty_file\u001b[0m \u001b[1;33m=\u001b[0m \u001b[0mf\u001b[0m\u001b[1;33m.\u001b[0m\u001b[0mread\u001b[0m\u001b[1;33m(\u001b[0m\u001b[1;33m)\u001b[0m\u001b[1;33m\u001b[0m\u001b[0m\n\u001b[1;32m----> 9\u001b[1;33m \u001b[0mcopy_file\u001b[0m\u001b[1;33m(\u001b[0m\u001b[1;34m'full_file.txt'\u001b[0m\u001b[1;33m,\u001b[0m \u001b[1;34m'empty_file.txt'\u001b[0m\u001b[1;33m)\u001b[0m\u001b[1;33m\u001b[0m\u001b[0m\n\u001b[0m",
      "\u001b[1;32m<ipython-input-46-b9a80526c6a9>\u001b[0m in \u001b[0;36mcopy_file\u001b[1;34m(a, b)\u001b[0m\n\u001b[0;32m      6\u001b[0m         \u001b[1;32mfor\u001b[0m \u001b[0mline\u001b[0m \u001b[1;32min\u001b[0m  \u001b[0mlines_in_full_file\u001b[0m\u001b[1;33m:\u001b[0m\u001b[1;33m\u001b[0m\u001b[0m\n\u001b[0;32m      7\u001b[0m             \u001b[0mf\u001b[0m\u001b[1;33m.\u001b[0m\u001b[0mwrite\u001b[0m\u001b[1;33m(\u001b[0m\u001b[0mline\u001b[0m\u001b[1;33m)\u001b[0m\u001b[1;33m\u001b[0m\u001b[0m\n\u001b[1;32m----> 8\u001b[1;33m             \u001b[0mreading_empty_file\u001b[0m \u001b[1;33m=\u001b[0m \u001b[0mf\u001b[0m\u001b[1;33m.\u001b[0m\u001b[0mread\u001b[0m\u001b[1;33m(\u001b[0m\u001b[1;33m)\u001b[0m\u001b[1;33m\u001b[0m\u001b[0m\n\u001b[0m\u001b[0;32m      9\u001b[0m \u001b[0mcopy_file\u001b[0m\u001b[1;33m(\u001b[0m\u001b[1;34m'full_file.txt'\u001b[0m\u001b[1;33m,\u001b[0m \u001b[1;34m'empty_file.txt'\u001b[0m\u001b[1;33m)\u001b[0m\u001b[1;33m\u001b[0m\u001b[0m\n",
      "\u001b[1;31mUnsupportedOperation\u001b[0m: not readable"
     ]
    }
   ],
   "source": [
    "def copy_file(a, b):\n",
    "    with open(a, 'r', encoding='utf-8') as g:\n",
    "        lines_in_full_file = g.readlines()\n",
    "    with open(b, 'w', encoding='utf-8') as f:\n",
    "        print(type(f))\n",
    "        for line in  lines_in_full_file:\n",
    "            f.write(line)\n",
    "            reading_empty_file = f.read()\n",
    "copy_file('full_file.txt', 'empty_file.txt')  \n"
   ]
  },
  {
   "cell_type": "code",
   "execution_count": 44,
   "metadata": {},
   "outputs": [
    {
     "name": "stdout",
     "output_type": "stream",
     "text": [
      "<class '_io.TextIOWrapper'>\n"
     ]
    },
    {
     "ename": "TypeError",
     "evalue": "write() argument must be str, not _io.TextIOWrapper",
     "output_type": "error",
     "traceback": [
      "\u001b[1;31m---------------------------------------------------------------------------\u001b[0m",
      "\u001b[1;31mTypeError\u001b[0m                                 Traceback (most recent call last)",
      "\u001b[1;32m<ipython-input-44-abf145497bf5>\u001b[0m in \u001b[0;36m<module>\u001b[1;34m()\u001b[0m\n\u001b[0;32m      5\u001b[0m         \u001b[0mf\u001b[0m\u001b[1;33m.\u001b[0m\u001b[0mwrite\u001b[0m\u001b[1;33m(\u001b[0m\u001b[0mreading_full\u001b[0m\u001b[1;33m)\u001b[0m\u001b[1;33m\u001b[0m\u001b[0m\n\u001b[0;32m      6\u001b[0m         \u001b[0mprint\u001b[0m\u001b[1;33m(\u001b[0m\u001b[1;34m'empty_file.txt'\u001b[0m\u001b[1;33m)\u001b[0m\u001b[1;33m\u001b[0m\u001b[0m\n\u001b[1;32m----> 7\u001b[1;33m \u001b[0mcopy_file\u001b[0m\u001b[1;33m(\u001b[0m\u001b[1;34m'full_file.txt'\u001b[0m\u001b[1;33m,\u001b[0m \u001b[1;34m'empty_file.txt'\u001b[0m\u001b[1;33m)\u001b[0m\u001b[1;33m\u001b[0m\u001b[0m\n\u001b[0m",
      "\u001b[1;32m<ipython-input-44-abf145497bf5>\u001b[0m in \u001b[0;36mcopy_file\u001b[1;34m(a, b)\u001b[0m\n\u001b[0;32m      3\u001b[0m     \u001b[1;32mwith\u001b[0m \u001b[0mopen\u001b[0m\u001b[1;33m(\u001b[0m\u001b[0mb\u001b[0m\u001b[1;33m,\u001b[0m \u001b[1;34m'w'\u001b[0m\u001b[1;33m,\u001b[0m \u001b[0mencoding\u001b[0m\u001b[1;33m=\u001b[0m\u001b[1;34m'utf-8'\u001b[0m\u001b[1;33m)\u001b[0m \u001b[1;32mas\u001b[0m \u001b[0mf\u001b[0m\u001b[1;33m:\u001b[0m\u001b[1;33m\u001b[0m\u001b[0m\n\u001b[0;32m      4\u001b[0m         \u001b[0mprint\u001b[0m\u001b[1;33m(\u001b[0m\u001b[0mtype\u001b[0m\u001b[1;33m(\u001b[0m\u001b[0mf\u001b[0m\u001b[1;33m)\u001b[0m\u001b[1;33m)\u001b[0m\u001b[1;33m\u001b[0m\u001b[0m\n\u001b[1;32m----> 5\u001b[1;33m         \u001b[0mf\u001b[0m\u001b[1;33m.\u001b[0m\u001b[0mwrite\u001b[0m\u001b[1;33m(\u001b[0m\u001b[0mreading_full\u001b[0m\u001b[1;33m)\u001b[0m\u001b[1;33m\u001b[0m\u001b[0m\n\u001b[0m\u001b[0;32m      6\u001b[0m         \u001b[0mprint\u001b[0m\u001b[1;33m(\u001b[0m\u001b[1;34m'empty_file.txt'\u001b[0m\u001b[1;33m)\u001b[0m\u001b[1;33m\u001b[0m\u001b[0m\n\u001b[0;32m      7\u001b[0m \u001b[0mcopy_file\u001b[0m\u001b[1;33m(\u001b[0m\u001b[1;34m'full_file.txt'\u001b[0m\u001b[1;33m,\u001b[0m \u001b[1;34m'empty_file.txt'\u001b[0m\u001b[1;33m)\u001b[0m\u001b[1;33m\u001b[0m\u001b[0m\n",
      "\u001b[1;31mTypeError\u001b[0m: write() argument must be str, not _io.TextIOWrapper"
     ]
    }
   ],
   "source": [
    "def copy_file(a, b):\n",
    "    reading_full = open(a, 'r', encoding='utf-8')\n",
    "    with open(b, 'w', encoding='utf-8') as f:\n",
    "        print(type(f))\n",
    "        f.write(reading_full)\n",
    "        print('empty_file.txt')\n",
    "copy_file('full_file.txt', 'empty_file.txt')  \n"
   ]
  },
  {
   "cell_type": "code",
   "execution_count": 57,
   "metadata": {},
   "outputs": [
    {
     "name": "stdout",
     "output_type": "stream",
     "text": [
      "The Zen of Python\n",
      "\n",
      "Beautiful is better than ugly.\n",
      "\n",
      "Explicit is better than implicit.\n",
      "\n"
     ]
    }
   ],
   "source": [
    "def read_3_lines(text, a):\n",
    "    with open(text, 'r', encoding='utf-8') as g:\n",
    "            lines_in_zen = g.readlines()\n",
    "            print(lines_in_zen[a - 2])\n",
    "            print(lines_in_zen[a - 1])\n",
    "            print(lines_in_zen[a])\n",
    "read_3_lines('zen.txt', 2)"
   ]
  },
  {
   "cell_type": "code",
   "execution_count": 64,
   "metadata": {},
   "outputs": [
    {
     "name": "stdout",
     "output_type": "stream",
     "text": [
      "Namespaces are one honking great idea -- let's do more of those!\n",
      "\n"
     ]
    }
   ],
   "source": [
    "def find_longest_word(text):\n",
    "    with open(text, 'r', encoding='utf-8') as g:\n",
    "        reading_text = g.readlines()\n",
    "        for line in reading_text:\n",
    "            linesplit = line.split(',')\n",
    "            \n",
    "            \n",
    "                longest = max(linesplit, key = len)\n",
    "    print(longest)\n",
    "find_longest_word('zen.txt')\n",
    "    "
   ]
  },
  {
   "cell_type": "code",
   "execution_count": 77,
   "metadata": {},
   "outputs": [
    {
     "name": "stdout",
     "output_type": "stream",
     "text": [
      "N\n",
      "a\n",
      "o\n",
      "h\n",
      "g\n",
      "i\n",
      "-\n",
      "l\n",
      "d\n",
      "m\n",
      "o\n",
      "t\n"
     ]
    }
   ],
   "source": [
    "with open('zen.txt','r') as f:\n",
    "    [line.split() for line in f]\n",
    "        \n",
    "    for word in line.split():\n",
    "        print(max(word, key = len))      "
   ]
  },
  {
   "cell_type": "code",
   "execution_count": 84,
   "metadata": {},
   "outputs": [
    {
     "name": "stdout",
     "output_type": "stream",
     "text": [
      "AAAAAAAAAAAAAAAAAAAAAAAAAAAAAAAAAAAAAAAAAAAAAAAAAAAAAAAAAAAAAAA\n",
      "BBBBBBBBBBBBBBBBBBBBBBBBBBBBBBBBBBBBBBBBBBBBBBBBBBBBB\n",
      "1\n"
     ]
    }
   ],
   "source": [
    "def concatenate(a, b, c):\n",
    "    with open(a, 'r', encoding='utf-8') as g:\n",
    "        read_A = g.readlines()\n",
    "    with open(b, 'r', encoding='utf-8') as f:\n",
    "        read_B = f.readlines()\n",
    "    \n",
    "    with open(c, 'w', encoding='utf-8') as y:\n",
    "        for line in  read_A:\n",
    "            y.write(line)\n",
    "        for line in  read_b:\n",
    "            y.write(line)\n",
    "        \n",
    "\n",
    "concatenate('text_A.txt', 'text_B.txt', 'NEW.txt')  \n",
    "\n",
    "   "
   ]
  },
  {
   "cell_type": "code",
   "execution_count": 87,
   "metadata": {},
   "outputs": [
    {
     "data": {
      "text/plain": [
       "['The',\n",
       " 'Zen',\n",
       " 'of',\n",
       " 'Python',\n",
       " 'Beautiful',\n",
       " 'is',\n",
       " 'better',\n",
       " 'than',\n",
       " 'ugly.',\n",
       " 'Explicit',\n",
       " 'is',\n",
       " 'better',\n",
       " 'than',\n",
       " 'implicit.',\n",
       " 'Simple',\n",
       " 'is',\n",
       " 'better',\n",
       " 'than',\n",
       " 'complex.',\n",
       " 'Complex',\n",
       " 'is',\n",
       " 'better',\n",
       " 'than',\n",
       " 'complicated.',\n",
       " 'Flat',\n",
       " 'is',\n",
       " 'better',\n",
       " 'than',\n",
       " 'nested.',\n",
       " 'Sparse',\n",
       " 'is',\n",
       " 'better',\n",
       " 'than',\n",
       " 'dense.',\n",
       " 'Readability',\n",
       " 'counts.',\n",
       " 'Special',\n",
       " 'cases',\n",
       " \"aren't\",\n",
       " 'special',\n",
       " 'enough',\n",
       " 'to',\n",
       " 'break',\n",
       " 'the',\n",
       " 'rules.',\n",
       " 'Although',\n",
       " 'practicality',\n",
       " 'beats',\n",
       " 'purity.',\n",
       " 'Errors',\n",
       " 'should',\n",
       " 'never',\n",
       " 'pass',\n",
       " 'silently.',\n",
       " 'Unless',\n",
       " 'explicitly',\n",
       " 'silenced.',\n",
       " 'In',\n",
       " 'the',\n",
       " 'face',\n",
       " 'of',\n",
       " 'ambiguity,',\n",
       " 'refuse',\n",
       " 'the',\n",
       " 'temptation',\n",
       " 'to',\n",
       " 'guess.',\n",
       " 'There',\n",
       " 'should',\n",
       " 'be',\n",
       " 'one--',\n",
       " 'and',\n",
       " 'preferably',\n",
       " 'only',\n",
       " 'one',\n",
       " '--obvious',\n",
       " 'way',\n",
       " 'to',\n",
       " 'do',\n",
       " 'it.',\n",
       " 'Although',\n",
       " 'that',\n",
       " 'way',\n",
       " 'may',\n",
       " 'not',\n",
       " 'be',\n",
       " 'obvious',\n",
       " 'at',\n",
       " 'first',\n",
       " 'unless',\n",
       " \"you're\",\n",
       " 'Dutch.',\n",
       " 'Now',\n",
       " 'is',\n",
       " 'better',\n",
       " 'than',\n",
       " 'never.',\n",
       " 'Although',\n",
       " 'never',\n",
       " 'is',\n",
       " 'often',\n",
       " 'better',\n",
       " 'than',\n",
       " '*right*',\n",
       " 'now.',\n",
       " 'If',\n",
       " 'the',\n",
       " 'implementation',\n",
       " 'is',\n",
       " 'hard',\n",
       " 'to',\n",
       " 'explain,',\n",
       " \"it's\",\n",
       " 'a',\n",
       " 'bad',\n",
       " 'idea.',\n",
       " 'If',\n",
       " 'the',\n",
       " 'implementation',\n",
       " 'is',\n",
       " 'easy',\n",
       " 'to',\n",
       " 'explain,',\n",
       " 'it',\n",
       " 'may',\n",
       " 'be',\n",
       " 'a',\n",
       " 'good',\n",
       " 'idea.',\n",
       " 'Namespaces',\n",
       " 'are',\n",
       " 'one',\n",
       " 'honking',\n",
       " 'great',\n",
       " 'idea',\n",
       " '--',\n",
       " \"let's\",\n",
       " 'do',\n",
       " 'more',\n",
       " 'of',\n",
       " 'those!']"
      ]
     },
     "execution_count": 87,
     "metadata": {},
     "output_type": "execute_result"
    }
   ],
   "source": [
    "huge_list = []\n",
    "\n",
    "with open('zen.txt', \"r\") as f:\n",
    "    huge_list = f.read().split()\n",
    "huge_list"
   ]
  },
  {
   "cell_type": "code",
   "execution_count": 88,
   "metadata": {},
   "outputs": [
    {
     "ename": "NameError",
     "evalue": "name 'mystring' is not defined",
     "output_type": "error",
     "traceback": [
      "\u001b[1;31m---------------------------------------------------------------------------\u001b[0m",
      "\u001b[1;31mNameError\u001b[0m                                 Traceback (most recent call last)",
      "\u001b[1;32m<ipython-input-88-a935e324436f>\u001b[0m in \u001b[0;36m<module>\u001b[1;34m()\u001b[0m\n\u001b[1;32m----> 1\u001b[1;33m \u001b[1;34m''\u001b[0m\u001b[1;33m.\u001b[0m\u001b[0mjoin\u001b[0m\u001b[1;33m(\u001b[0m\u001b[1;33m[\u001b[0m\u001b[0mc\u001b[0m\u001b[1;33m.\u001b[0m\u001b[0mupper\u001b[0m\u001b[1;33m(\u001b[0m\u001b[1;33m)\u001b[0m \u001b[1;32mif\u001b[0m \u001b[0mc\u001b[0m \u001b[1;32min\u001b[0m \u001b[0mvowels\u001b[0m \u001b[1;32melse\u001b[0m \u001b[0mc\u001b[0m \u001b[1;32mfor\u001b[0m \u001b[0mc\u001b[0m \u001b[1;32min\u001b[0m \u001b[0mmystring\u001b[0m\u001b[1;33m]\u001b[0m\u001b[1;33m)\u001b[0m\u001b[1;33m\u001b[0m\u001b[0m\n\u001b[0m",
      "\u001b[1;31mNameError\u001b[0m: name 'mystring' is not defined"
     ]
    }
   ],
   "source": [
    "''.join([c.upper() if c in vowels else c for c in mystring])"
   ]
  },
  {
   "cell_type": "code",
   "execution_count": 21,
   "metadata": {},
   "outputs": [
    {
     "name": "stdout",
     "output_type": "stream",
     "text": [
      "ThE\n",
      "ZEn\n",
      "Of\n",
      "PythOn\n",
      "BEAUtIfUl\n",
      "Is\n",
      "bEttEr\n",
      "thAn\n",
      "Ugly.\n",
      "ExplIcIt\n",
      "Is\n",
      "bEttEr\n",
      "thAn\n",
      "ImplIcIt.\n",
      "SImplE\n",
      "Is\n",
      "bEttEr\n",
      "thAn\n",
      "cOmplEx.\n",
      "COmplEx\n",
      "Is\n",
      "bEttEr\n",
      "thAn\n",
      "cOmplIcAtEd.\n",
      "FlAt\n",
      "Is\n",
      "bEttEr\n",
      "thAn\n",
      "nEstEd.\n",
      "SpArsE\n",
      "Is\n",
      "bEttEr\n",
      "thAn\n",
      "dEnsE.\n",
      "REAdAbIlIty\n",
      "cOUnts.\n",
      "SpEcIAl\n",
      "cAsEs\n",
      "ArEn't\n",
      "spEcIAl\n",
      "EnOUgh\n",
      "tO\n",
      "brEAk\n",
      "thE\n",
      "rUlEs.\n",
      "AlthOUgh\n",
      "prActIcAlIty\n",
      "bEAts\n",
      "pUrIty.\n",
      "ErrOrs\n",
      "shOUld\n",
      "nEvEr\n",
      "pAss\n",
      "sIlEntly.\n",
      "UnlEss\n",
      "ExplIcItly\n",
      "sIlEncEd.\n",
      "In\n",
      "thE\n",
      "fAcE\n",
      "Of\n",
      "AmbIgUIty,\n",
      "rEfUsE\n",
      "thE\n",
      "tEmptAtIOn\n",
      "tO\n",
      "gUEss.\n",
      "ThErE\n",
      "shOUld\n",
      "bE\n",
      "OnE--\n",
      "And\n",
      "prEfErAbly\n",
      "Only\n",
      "OnE\n",
      "--ObvIOUs\n",
      "wAy\n",
      "tO\n",
      "dO\n",
      "It.\n",
      "AlthOUgh\n",
      "thAt\n",
      "wAy\n",
      "mAy\n",
      "nOt\n",
      "bE\n",
      "ObvIOUs\n",
      "At\n",
      "fIrst\n",
      "UnlEss\n",
      "yOU'rE\n",
      "DUtch.\n",
      "NOw\n",
      "Is\n",
      "bEttEr\n",
      "thAn\n",
      "nEvEr.\n",
      "AlthOUgh\n",
      "nEvEr\n",
      "Is\n",
      "OftEn\n",
      "bEttEr\n",
      "thAn\n",
      "*rIght*\n",
      "nOw.\n",
      "If\n",
      "thE\n",
      "ImplEmEntAtIOn\n",
      "Is\n",
      "hArd\n",
      "tO\n",
      "ExplAIn,\n",
      "It's\n",
      "A\n",
      "bAd\n",
      "IdEA.\n",
      "If\n",
      "thE\n",
      "ImplEmEntAtIOn\n",
      "Is\n",
      "EAsy\n",
      "tO\n",
      "ExplAIn,\n",
      "It\n",
      "mAy\n",
      "bE\n",
      "A\n",
      "gOOd\n",
      "IdEA.\n",
      "NAmEspAcEs\n",
      "ArE\n",
      "OnE\n",
      "hOnkIng\n",
      "grEAt\n",
      "IdEA\n",
      "--\n",
      "lEt's\n",
      "dO\n",
      "mOrE\n",
      "Of\n",
      "thOsE!\n"
     ]
    }
   ],
   "source": [
    "def print_selected_words(text): \n",
    "    vowels = 'aouie'\n",
    "    with open(text, \"r\") as f:\n",
    "        reading_file = f.read()\n",
    "        list_of_words = reading_file.split()\n",
    "        for word in list_of_words:\n",
    "            for i in word:\n",
    "                word = ''.join([i.upper() if i in vowels else i for i in word])\n",
    "            print(word)\n",
    "print_selected_words('zen.txt')"
   ]
  },
  {
   "cell_type": "code",
   "execution_count": 27,
   "metadata": {},
   "outputs": [],
   "source": [
    "def list_write(text):\n",
    "    my_list = [['a', 'b', 'c'], [1,2,3]]\n",
    "    with open(text, \"w\") as f:\n",
    "        for x in my_list:\n",
    "            f.write(str(x) + '\\n')\n",
    "            \n",
    "list_write('file_for_list.txt')"
   ]
  },
  {
   "cell_type": "code",
   "execution_count": null,
   "metadata": {},
   "outputs": [],
   "source": []
  }
 ],
 "metadata": {
  "kernelspec": {
   "display_name": "Python 3",
   "language": "python",
   "name": "python3"
  },
  "language_info": {
   "codemirror_mode": {
    "name": "ipython",
    "version": 3
   },
   "file_extension": ".py",
   "mimetype": "text/x-python",
   "name": "python",
   "nbconvert_exporter": "python",
   "pygments_lexer": "ipython3",
   "version": "3.7.0"
  }
 },
 "nbformat": 4,
 "nbformat_minor": 2
}
